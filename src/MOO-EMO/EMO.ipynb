{
 "cells": [
  {
   "cell_type": "markdown",
   "metadata": {},
   "source": [
    "# Zadanie domowe - implementacja algorytmu NSGA-II"
   ]
  },
  {
   "cell_type": "markdown",
   "metadata": {},
   "source": [
    "Zrealizowali:\n",
    "<ol>\n",
    "  <li>Filip Marciniak 148148</li>\n",
    "  <li>Szymon Pasternak 148146</li>\n",
    "</ol>"
   ]
  },
  {
   "cell_type": "code",
   "execution_count": 28,
   "metadata": {},
   "outputs": [],
   "source": [
    "# Import niezbędnych bibliotek\n",
    "# inline = pozwala wykreślać wykresy biblioteki matplotlib w okienkach jupytera\n",
    "%matplotlib inline \n",
    "import matplotlib.pyplot as plt\n",
    "import numpy as np"
   ]
  },
  {
   "cell_type": "code",
   "execution_count": 29,
   "metadata": {},
   "outputs": [],
   "source": [
    "### Klasa Solution\n",
    "class Solution:\n",
    "    def __init__(self, x, f, name):\n",
    "        self.x = x ### zmienne decyzyjne\n",
    "        self.f = f ### wektor ocen [f1, f2]\n",
    "        self.front = 0 ## pomocnicza wartość przechowująca numer niezdominowanego frontu\n",
    "        self.cd = 0.0 ## pomocnicza wartość przechowująca wartość crowding distance\n",
    "        self.name = name ### pomocnicza nazwa rozwiązania\n",
    "\n",
    "    def __str__(self):\n",
    "        return \"[\" + self.name + \" : F = \" + str(self.f) + \"]\""
   ]
  },
  {
   "cell_type": "code",
   "execution_count": 30,
   "metadata": {},
   "outputs": [],
   "source": [
    "### TODO należy uzupełnić funkcję obliczającą realizacjię kryteriow w oparciu o informacje w pliku PDF\n",
    "### wejście = wektor zmiennych decyzyjnych; wyjście = wektor ocen\n",
    "# Ewluacja rozwiazaąnia w oparciu o zmienne decyzyjne\n",
    "\n",
    "def evaluate(x):\n",
    "    l = 1 + abs(x[1]**10 - 0.5) + x[2] + x[3] + x[4]\n",
    "    return [x[0]**10 * l, (1-x[0]**10)*l]"
   ]
  },
  {
   "cell_type": "code",
   "execution_count": 31,
   "metadata": {},
   "outputs": [
    {
     "name": "stdout",
     "output_type": "stream",
     "text": [
      "[0-0 : F = [0.21693766971444003, 2.2830453614617685]]\n",
      "[0-1 : F = [0.21362378155530823, 2.1947955391903524]]\n",
      "[0-2 : F = [0.32658895522147874, 3.173357467802693]]\n",
      "[0-3 : F = [2.0926249470454523e-07, 2.499999790737505]]\n",
      "[0-4 : F = [0.000131697097860278, 2.4860001711954323]]\n",
      "[0-5 : F = [0.005690961432391249, 1.2878139546381921]]\n",
      "[0-6 : F = [1.3439167803363812, 0.15608321953277088]]\n",
      "[0-7 : F = [0.01647384261027749, 3.14645874951875]]\n",
      "[0-8 : F = [0.015513931290880172, 1.484485297734322]]\n",
      "[0-9 : F = [0.6692727938098578, 1.78288039502412]]\n"
     ]
    }
   ],
   "source": [
    "### Procedura tworzy populacje początkowa o zadanym rozmiarze N\n",
    "def constructInitialPopulation(N):\n",
    "    P = []\n",
    "    for i in range(N):\n",
    "        x = [j for j in range(5)] \n",
    "        x[0] = np.random.rand()\n",
    "        x[1] = np.random.rand()      \n",
    "        for j in range(2,5): x[j] = np.random.randint(0,2)\n",
    "        f = evaluate(x) ### ewaluacja rozwiązania\n",
    "        P.append(Solution(x, f, str(0)+\"-\"+str(i))) ### dodanie rozwiązania do listy, \n",
    "        # nazwa składa się z dwóch członów: numer generacji, \n",
    "        # w której rozwiązanie zostało wygenerowane oraz numer rozwiązania w populacji\n",
    "    return P\n",
    "\n",
    "P = constructInitialPopulation(10000)\n",
    "for s in P[:10]: print(s) ### Wypisanie przykładowych rozwiązań (dla testu)"
   ]
  },
  {
   "cell_type": "code",
   "execution_count": 48,
   "metadata": {},
   "outputs": [
    {
     "data": {
      "image/png": "[encoded data removed]",
      "text/plain": [
       "<Figure size 640x480 with 1 Axes>"
      ]
     },
     "metadata": {},
     "output_type": "display_data"
    }
   ],
   "source": [
    "### Poniższa funkcja wykreśla rozwiązania w P wykorzystując wykres punktowy. \n",
    "### Przy dużym rozmiarze N można zaobserwowa jak losowo wygenerowane rozwiązania \n",
    "### rozkładają się w przestrzeni ocen. Proszę sprawdzić np. dla N=10000. \n",
    "### TODO Proszę uzasadnić uzyskany rozkład odwołując się do definicji problemu (funkcji ocen)\n",
    "\n",
    "# Pierwszą obserwacją jest to, że na wykresie widoczne są charakterystyczne \"skoki\". Każdy kolejny \"przeskok\" jest skutkiem tego, że w zmiennej `l` dodawana jest jedna ze zmiennych binarnych (x3, x4, x5).\n",
    "# Druga obserwacja dotyczy rozproszenia w ramach jednego \"skoku\". Rozproszenie to spowodowane jest różnymi wartościami x2.\n",
    "\n",
    "def plotPopul(P):\n",
    "    plt.figure()\n",
    "    X = [s.f[0] for s in P]\n",
    "    Y = [s.f[1] for s in P]\n",
    "    plt.scatter(X, Y, alpha=0.4, c='orange')\n",
    "    plt.xlim(0, 3.0);\n",
    "    plt.ylim(0, 3.0)\n",
    "\n",
    "plotPopul(P)"
   ]
  },
  {
   "cell_type": "code",
   "execution_count": 49,
   "metadata": {},
   "outputs": [
    {
     "name": "stdout",
     "output_type": "stream",
     "text": [
      "[[0, 1], [2, 3], [4, 5], [6, 7], [8, 9]]\n"
     ]
    }
   ],
   "source": [
    "### TODO poniższa funkcja winna zwracać listę par indeksów rozwiązań wybranych do reprodukcji.\n",
    "### Z każdej pary zostanie utworzone jedno rozwiązanie potomne. \n",
    "### Selekcja powinna odbywać się w oparciu o turniej o rozmiarze 2\n",
    "### Wyjście: lista par -> [ [idx11, idx12],...,[idxN1, idxN2] ]\n",
    "\n",
    "def constructParents(N):\n",
    "    return [[i, i+1] for i in range(0, N, 2)]\n",
    "\n",
    "print(constructParents(10)) ### TEST"
   ]
  },
  {
   "cell_type": "code",
   "execution_count": 50,
   "metadata": {},
   "outputs": [
    {
     "name": "stdout",
     "output_type": "stream",
     "text": [
      "[1.0, 0.25, 1.0]\n"
     ]
    }
   ],
   "source": [
    "# TODO poniższa funkcja powinna dokonywać krzyżowania dwóch wejściowych wektorów\n",
    "# zmiennych decyzyjnych. Procedura może zostać zaimplementowana w dowolny sposób\n",
    "# Sugerowane najprostsze rozwiązanie: \"potomek\" przy określaniu wartości każdej zmiennej\n",
    "# przejmuje wartość od losowego rodzica.\n",
    "\n",
    "def getCrossed(xA, xB):\n",
    "    return [xA[i] if np.random.rand() >= 0.5 else xB[i] for i in range(len(xA))]\n",
    "\n",
    "print(getCrossed([0.0, 0.5, 1.0], [1.0, 0.25, 0.75])) ### TEST"
   ]
  },
  {
   "cell_type": "code",
   "execution_count": 51,
   "metadata": {},
   "outputs": [
    {
     "name": "stdout",
     "output_type": "stream",
     "text": [
      "[0, 0.2, 0.0, 1.0, 1.0]\n",
      "[0, 0.1420614960080724, 0.0, 1.0, 1.0]\n",
      "[0, 0.2077082042444807, 0.0, 1.0, 1.0]\n"
     ]
    }
   ],
   "source": [
    "# TODO poniższa funkcja winna \"mutować\" wejściowy wektor x (operacje powinny być wykonywane)\n",
    "# na x. Należy w procedurze uwzględnić prawdopodobieństwo zajścia \n",
    "# mutacji dla każdej zmiennej decyzyjnej. W przypadku zmiennych binarnych mutacja winna być\n",
    "# zrealizowana jako dopełnienie zmiennej do 1: nowe x[i] = 1 - x[i]. W przypadku zmiennych ciągłych \n",
    "# można wykorzystać mutację gausowską, tzn. dodać do wartości losową liczbę z rozkładu\n",
    "# normalnego o odchyleniu standardowym podanym na wejściu metody \"std\"\n",
    "# Należy tutaj zabezpieczyć procedurę przed potencjalnym przekroczeniu tak zaktualizowanej\n",
    "# wartości poza dozwolony przedział [0, 1]\n",
    "\n",
    "def mutate(x, prob, std):\n",
    "    for i in range(len(x)):\n",
    "        if np.random.rand() < prob:\n",
    "            if i in [2, 3, 4]:\n",
    "                x[i] = 1 - x[i]\n",
    "            else:\n",
    "                x[i] = x[i] + np.random.normal(0, std)\n",
    "                x[i] = max(0, min(1, x[i]))\n",
    "                \n",
    "for std in [0.0, 0.1, 0.2]: ## TEST\n",
    "    x = [0.0, 0.2, 1.0, 0.0, 0.0]\n",
    "    mutate(x, 1.0, std)\n",
    "    print(x)"
   ]
  },
  {
   "cell_type": "code",
   "execution_count": 52,
   "metadata": {},
   "outputs": [],
   "source": [
    "### Proszę zapoznać się z poniższą metodą\n",
    "### Generuja ona wektor rozwiązań potomnych w oparciu o wyselekcjonowanych rodziców\n",
    "### i przyjęte operatory reprodukcji\n",
    "\n",
    "def constructOffspring(P, parents, gen, std):\n",
    "    O = []\n",
    "    prob = 1.0 / 5.0\n",
    "    for i in range(len(parents)):\n",
    "        xO = getCrossed(P[parents[i][0]].x, P[parents[i][1]].x)\n",
    "        mutate(xO, prob, std)\n",
    "        O.append(Solution(xO, evaluate(xO), str(gen) + \"-\" + str(i)))\n",
    "    return O"
   ]
  },
  {
   "cell_type": "code",
   "execution_count": 53,
   "metadata": {},
   "outputs": [],
   "source": [
    "# Pomocnicza metoda określająca zajście relacji dominacji\n",
    "def dominates(sj, sk):\n",
    "    if sj.f[0] < sk.f[0] and sj.f[1] <= sk.f[1]: return True\n",
    "    if sj.f[0] <= sk.f[0] and sj.f[1] < sk.f[1]: return True\n",
    "    return False"
   ]
  },
  {
   "cell_type": "code",
   "execution_count": 54,
   "metadata": {},
   "outputs": [
    {
     "name": "stdout",
     "output_type": "stream",
     "text": [
      "[[0, 5, 8, 7], [1, 2, 6], [3, 4]]\n"
     ]
    }
   ],
   "source": [
    "### TODO Poniższa funkcja winna realizować przydział rozwiązań do frontów niezdominowanych\n",
    "### Wyjściem powinna być lista list indeksów rozwiązań w P, przydzielonych do odpowiednich frontów.\n",
    "### Np. wyjście: [[3,4,0],[1,5],[2]] oznacza, że rozwiązania nr 0, 3, 4 w P są w pierszym froncie,\n",
    "### 1 i 5 w drugim, a rozwiązanie numer 2 w ostatnim. \n",
    "\n",
    "def getNonDominatedFronts(P):\n",
    "    def getFront(P):\n",
    "        S = sorted(P, key=lambda x: x.f[0])\n",
    "        R = []\n",
    "        if len(S) == 1:\n",
    "            return S\n",
    "        \n",
    "        T = getFront(S[:len(S)//2])\n",
    "        B = getFront(S[len(S)//2:])\n",
    "        N = [b for b in B if not any([dominates(t, b) for t in T])]\n",
    "        return T + N\n",
    "\n",
    "    fronts_idx = []\n",
    "    X = P.copy()\n",
    "    while len(X) > 0:\n",
    "        front = getFront(X)\n",
    "        fronts_idx.append([P.index(f) for f in front])\n",
    "        X = [p for p in X if p not in front]\n",
    "    \n",
    "    return fronts_idx\n",
    "\n",
    "P = [\n",
    "    Solution([], [1, 6], \"a\"),  # 0\n",
    "    Solution([], [3, 7], \"b\"),  # 1\n",
    "    Solution([], [4, 5], \"c\"),  # 2\n",
    "    Solution([], [6, 7], \"d\"),  # 3\n",
    "    Solution([], [8, 4], \"e\"),  # 4\n",
    "    Solution([], [2, 3], \"f\"),  # 5\n",
    "    Solution([], [7, 3], \"g\"),  # 6\n",
    "    Solution([], [5, 1], \"h\"),  # 7\n",
    "    Solution([], [3, 2], \"X\"),  # 8\n",
    "]\n",
    "print(getNonDominatedFronts(P))"
   ]
  },
  {
   "cell_type": "code",
   "execution_count": 55,
   "metadata": {},
   "outputs": [
    {
     "name": "stdout",
     "output_type": "stream",
     "text": [
      "[inf, inf, 2.0, inf, inf, 1.3, inf, inf, 1.15]\n"
     ]
    }
   ],
   "source": [
    "### TODO poniższa metoda winna obliczać wartości crowding distance (cd)\n",
    "# dla rozwiazań w P. UWAGA: cd jest obliczany dla niezdominowanych frontów z osobna;\n",
    "# obliczając cd dla rozwiązań w jednym froncie \"zapominamy\" o pozostałych rozwiązaniach.\n",
    "# Metoda winna zwrócić wektor uzyskanych cd\n",
    "\n",
    "def getCrowdingDistances(F, P):\n",
    "\n",
    "    result = [0 for _ in P]\n",
    "    for front in F:\n",
    "        X = [(i, P[i]) for i in front]  # (indeks w P, rozwiązanie)\n",
    "        for m in range(2):\n",
    "            X = sorted(X, key=lambda x: x[1].f[m])\n",
    "            for i in range(len(X)):\n",
    "                if i in [0, len(X)-1] or abs(X[-1][1].f[m]-X[0][1].f[m]) < 1e-5:\n",
    "                    result[X[i][0]] = np.inf\n",
    "                else:\n",
    "                    result[X[i][0]] = result[X[i][0]] + (X[i+1][1].f[m] - X[i-1][1].f[m])/(X[-1][1].f[m]-X[0][1].f[m])\n",
    "                \n",
    "    return result\n",
    "\n",
    "print(getCrowdingDistances(getNonDominatedFronts(P), P))"
   ]
  },
  {
   "cell_type": "code",
   "execution_count": 56,
   "metadata": {},
   "outputs": [],
   "source": [
    "### Poniższa metoda przydziela rozwiązaniom ich numery niezdominowanych frontów i wartości cd,\n",
    "# a także sortuje rozwiązania w populacji w oparciu o te wartości. \n",
    "# W przypadku, gdy useCD = False, miara cd nie jest uwzględniona przy sortowaniu.\n",
    "# Przetestowanie metody dla useCD = True i False pozwoli zaobserwować zysk wynikający\n",
    "# z wykorzystania miary cd.\n",
    "\n",
    "# def applyScoresAndSort(P, useCD = True):\n",
    "#     F = getNonDominatedFronts(P)\n",
    "#     CD = [0 for _ in P]\n",
    "#     if useCD:\n",
    "#         CD = getCrowdingDistances(F, P)\n",
    "#         mi, ma = min(CD), max(CD) ### nomralizacja CD\n",
    "#         if abs(mi - ma) < 0.00001: CD = [0.5 for _ in range(len(P))]\n",
    "#         CD = [(v-mi)/(ma-mi) for v in CD]    \n",
    "\n",
    "#     for s, f in enumerate(F):\n",
    "#          for i in f: \n",
    "#             P[i].front = s\n",
    "#             P[i].cd = CD[i]\n",
    "   \n",
    "#     P.sort(key=lambda x: x.front - x.cd * 0.5) # Kryterium sortowania\n",
    "#     print([p.cd for p in P])\n",
    "\n",
    "def applyScoresAndSort(P, useCD = True):\n",
    "    F = getNonDominatedFronts(P)\n",
    "    CD = [0 for _ in P]\n",
    "    if useCD:\n",
    "        CD = getCrowdingDistances(F, P)\n",
    "\n",
    "    for s, f in enumerate(F):\n",
    "         for i in f: \n",
    "            P[i].front = s\n",
    "            P[i].cd = CD[i]\n",
    "   \n",
    "    P.sort(key=lambda x: x.cd, reverse=True)\n",
    "    P.sort(key=lambda x: x.front) # Kryterium sortowania\n",
    "    \n",
    "\n",
    "applyScoresAndSort(P)"
   ]
  },
  {
   "cell_type": "code",
   "execution_count": 57,
   "metadata": {},
   "outputs": [],
   "source": [
    "# TODO Poniższa funkcja winna obliczać pomocnicze statystyki, które pomogą\n",
    "# uzasadnić wykorzystanie miary cd w obliczeniach.\n",
    "# Metoda tak winna zwrócić średnią, maksymalną, minimalną wartość \n",
    "# cd dla rozwiązań, oraz odchylenie standardowe tych wartości\n",
    "# w populacji P. Przy obliczaniu statystyk należy pominąć wartości graniczne (nieskończoność),\n",
    "# uzyskiwane przez wartości graniczne\n",
    "# Jak należy interpretować te miary?\n",
    "\n",
    "def getStatsCD(P):\n",
    "    to_stats = [p.cd for p in P if not np.isinf(p.cd)]\n",
    "    if len(to_stats) > 0:\n",
    "        return np.mean(to_stats), np.max(to_stats), np.min(to_stats), np.std(to_stats)\n",
    "    else:\n",
    "        return 0, 0, 0, 0"
   ]
  },
  {
   "cell_type": "markdown",
   "metadata": {},
   "source": [
    "Poniższe dwie komórki realizują działanie algorytmu NSGA-II, ilustrują skonstruowane rozwiązania na 5 różnych etapach działania algorytmu i ostateczni wypisują uzyskane statystki dla CD. W pierwszej komórce cd nie jest wykorzystane przy sortowaniu, w drugiej jest. Należy zapoznać się z kodem i przetestować działanie dla różnych parametrów (rozmiary populacji, itp). Dla którego wariantu algorytm wykazał się lepszym działaniem? (powinien dla tego, który wykorzystywał miarę cd ;) ) <br>\n",
    "\n",
    "<b>Dla chętnych: </b> algorytmy ewolucyjne są losowe. Z tego powodu jednokrotne ich uruchomienie nie jest wiarygodne. By uzyskać bardziej wiarygodny wynik, algorytm może zostać uruchomiony np. 20 razy a uzyskane statystyki uśrednione. Dodatkowo można je obliczyć dla każdej generacji (nie tylko w ostatniej) i wykreślić ich zbieżność na wykresie liniowym. Na jednym wykresie można wykreślić wyniki uzyskane przez oba warianty algorytmu - dzięki czemu różnice powinny byc lepiej widoczne. Proszę zauważyć jednak, że statystki dla cd nie są możliwie najlepszą miarą oceny jakości działania algorytmu. Na samym początku, gdy rozwiązania są silnie rozproszone, ich wartości cd powinny być bardzo wysokie, co jest w sprzeczności z założeniem, że \"im większe cd tym lepiej\". Aby wiarygodniej oceniać takie algorytmy, należy także wykorzystywać miary, które szacują odległość rozwiązań do frontu Pareta. Można zaproponować taką miarę i wykorzystać ją do pokazania \"bliskości\" populacji do tego frontu. Dopiero jednoczesne zestawienie takiej miary i miary oceniającej rozproszenie rozwiązań umożliwi lepsze porównanie algorytmów. "
   ]
  },
  {
   "cell_type": "code",
   "execution_count": 69,
   "metadata": {},
   "outputs": [
    {
     "data": {
      "image/png": "[encoded data removed]",
      "text/plain": [
       "<Figure size 640x480 with 1 Axes>"
      ]
     },
     "metadata": {},
     "output_type": "display_data"
    }
   ],
   "source": [
    "### Pominięcie miary CD\n",
    "N = 50 # rozmiar populacji\n",
    "GEN = 500 # liczba generacji/iteracji algorytmu\n",
    " \n",
    "P = constructInitialPopulation(N) # utworzenie populacji początkowej\n",
    "applyScoresAndSort(P, useCD = False) # posortowanie populacji wykorzystując fronty\n",
    "# niezdominowane (bez miary cd; useCD = False)\n",
    "\n",
    "for gen in range(GEN): # iteracja po kolejnych generacjach\n",
    "    C = constructParents(N) # skonstruowanie identyfikatorów rodziców\n",
    "    O = constructOffspring(P, C, gen + 1, 0.1) # konstrukcja potomstwa\n",
    "    M = P + O # połączenie obecnej populacji z potomną\n",
    "    applyScoresAndSort(M, useCD = False) # posortowanie tak połączonej populacji\n",
    "    P = M[:N] # \"przeżywają najlepiej przystosowani\"\n",
    "    # if gen % (GEN / 4) == 0 or gen == GEN - 1: plotPopul(P) # co jakiś krok ilustrowana jest populacja\n",
    "\n",
    "plotPopul(P)\n",
    "\n",
    "# wypisanie statystyk\n",
    "# print(getStatsCD(P))"
   ]
  },
  {
   "cell_type": "code",
   "execution_count": 70,
   "metadata": {},
   "outputs": [
    {
     "name": "stdout",
     "output_type": "stream",
     "text": [
      "(0.07535756122803224, 0.3330202911953538, 0.041541280524168875, 0.04316758147793381)\n"
     ]
    },
    {
     "data": {
      "image/png": "[encoded data removed]",
      "text/plain": [
       "<Figure size 640x480 with 1 Axes>"
      ]
     },
     "metadata": {},
     "output_type": "display_data"
    }
   ],
   "source": [
    "### Pominięcie miary CD\n",
    "N = 50\n",
    "GEN = 500\n",
    "\n",
    "P = constructInitialPopulation(N)\n",
    "applyScoresAndSort(P, useCD = True)\n",
    "\n",
    "for gen in range(GEN):\n",
    "    C = constructParents(N)\n",
    "    O = constructOffspring(P, C, gen + 1, 0.1)\n",
    "    M = P + O\n",
    "    applyScoresAndSort(M, useCD = True)\n",
    "    P = M[:N]\n",
    "    # if gen % (GEN / 5) == 0 or gen == GEN - 1: plotPopul(P)\n",
    "\n",
    "plotPopul(P)\n",
    "\n",
    "print(getStatsCD(P))"
   ]
  },
  {
   "cell_type": "code",
   "execution_count": null,
   "metadata": {},
   "outputs": [],
   "source": []
  }
 ],
 "metadata": {
  "kernelspec": {
   "display_name": "Python 3 (ipykernel)",
   "language": "python",
   "name": "python3"
  },
  "language_info": {
   "codemirror_mode": {
    "name": "ipython",
    "version": 3
   },
   "file_extension": ".py",
   "mimetype": "text/x-python",
   "name": "python",
   "nbconvert_exporter": "python",
   "pygments_lexer": "ipython3",
   "version": "3.11.8"
  }
 },
 "nbformat": 4,
 "nbformat_minor": 4
}
