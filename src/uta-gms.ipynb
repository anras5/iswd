{
 "cells": [
  {
   "cell_type": "markdown",
   "id": "3f0ca026-5635-4a46-973d-178cc52f29cf",
   "metadata": {},
   "source": [
    "# IMPORTS"
   ]
  },
  {
   "cell_type": "code",
   "execution_count": 2,
   "id": "9984be6f-b25d-4ee4-89db-2f66fd8dbb80",
   "metadata": {},
   "outputs": [],
   "source": [
    "import pandas as pd"
   ]
  },
  {
   "cell_type": "code",
   "execution_count": 25,
   "id": "8c19d587-ac0b-4614-ac3e-0b9d0a395d18",
   "metadata": {},
   "outputs": [],
   "source": [
    "df = pd.read_csv(\"nuclear_dataset.csv\", usecols=['C1', 'C2', 'C3', 'C4'])"
   ]
  },
  {
   "cell_type": "markdown",
   "id": "f277f36e-7be1-4ffc-8fcc-75249276b54b",
   "metadata": {},
   "source": [
    "# Informacje preferencyjne\n",
    "\n",
    "W ramach informacji preferencyjnych należy ocenić parami warianty 0 i 15 (W skutek wyczerpywania się złóż materiałów radioaktywnych, elektrownie mogą zacząć korzystać z bardziej ubogich złóż, co przełoży się na zwiększenie ilości odpadów radioaktywnych) oraz 10 i 17 (Inflacja może znacząco wzrosnąć w przyszłości, więc minimalizacja kosztów w przyszłości powinny być ważniejsza niż koszty aktualne)"
   ]
  },
  {
   "cell_type": "code",
   "execution_count": 26,
   "id": "b819e363-6cb7-406b-92b6-d08ae306aa28",
   "metadata": {},
   "outputs": [
    {
     "data": {
      "text/html": [
       "<div>\n",
       "<style scoped>\n",
       "    .dataframe tbody tr th:only-of-type {\n",
       "        vertical-align: middle;\n",
       "    }\n",
       "\n",
       "    .dataframe tbody tr th {\n",
       "        vertical-align: top;\n",
       "    }\n",
       "\n",
       "    .dataframe thead th {\n",
       "        text-align: right;\n",
       "    }\n",
       "</style>\n",
       "<table border=\"1\" class=\"dataframe\">\n",
       "  <thead>\n",
       "    <tr style=\"text-align: right;\">\n",
       "      <th></th>\n",
       "      <th>C1</th>\n",
       "      <th>C2</th>\n",
       "      <th>C3</th>\n",
       "      <th>C4</th>\n",
       "    </tr>\n",
       "  </thead>\n",
       "  <tbody>\n",
       "    <tr>\n",
       "      <th>0</th>\n",
       "      <td>0.60</td>\n",
       "      <td>0.93</td>\n",
       "      <td>0.00</td>\n",
       "      <td>0.73</td>\n",
       "    </tr>\n",
       "    <tr>\n",
       "      <th>10</th>\n",
       "      <td>0.61</td>\n",
       "      <td>0.54</td>\n",
       "      <td>0.38</td>\n",
       "      <td>0.49</td>\n",
       "    </tr>\n",
       "    <tr>\n",
       "      <th>15</th>\n",
       "      <td>0.44</td>\n",
       "      <td>0.95</td>\n",
       "      <td>0.00</td>\n",
       "      <td>0.90</td>\n",
       "    </tr>\n",
       "    <tr>\n",
       "      <th>17</th>\n",
       "      <td>0.76</td>\n",
       "      <td>0.06</td>\n",
       "      <td>1.00</td>\n",
       "      <td>0.60</td>\n",
       "    </tr>\n",
       "  </tbody>\n",
       "</table>\n",
       "</div>"
      ],
      "text/plain": [
       "      C1    C2    C3    C4\n",
       "0   0.60  0.93  0.00  0.73\n",
       "10  0.61  0.54  0.38  0.49\n",
       "15  0.44  0.95  0.00  0.90\n",
       "17  0.76  0.06  1.00  0.60"
      ]
     },
     "execution_count": 26,
     "metadata": {},
     "output_type": "execute_result"
    }
   ],
   "source": [
    "df[df.index.isin([0, 15, 10, 17])]"
   ]
  },
  {
   "cell_type": "markdown",
   "id": "9994ea03-9cd4-4c88-aa1e-b3dd76cf7c76",
   "metadata": {},
   "source": [
    "Wariant 0 > Wariant 15 - $ U(W0) > U(W15) $\n",
    "\n",
    "Wariant 10 > Wariant 17 - $ U(W10) > U(W17) $\n",
    "\n"
   ]
  },
  {
   "cell_type": "code",
   "execution_count": 41,
   "id": "e1948f04-09b1-4eaf-ae02-d2e92e5a74ea",
   "metadata": {},
   "outputs": [],
   "source": [
    "preferences = [\n",
    "    [0, 15],  # 0 > 15\n",
    "    [10, 17]  # 10 > 17\n",
    "]"
   ]
  },
  {
   "cell_type": "code",
   "execution_count": 23,
   "id": "747ad0b2-ffbe-41ab-9d62-89789abe5d27",
   "metadata": {},
   "outputs": [],
   "source": [
    "from pulp import *"
   ]
  },
  {
   "cell_type": "code",
   "execution_count": 72,
   "id": "4b4d748b-1015-4b72-92d5-87a2fd31d3ff",
   "metadata": {},
   "outputs": [
    {
     "name": "stdout",
     "output_type": "stream",
     "text": [
      "[x_C1_0.6, x_C2_0.93, x_C3_0.0, x_C4_0.73] [x_C1_0.44, x_C2_0.95, x_C3_0.0, x_C4_0.9]\n",
      "[x_C1_0.61, x_C2_0.54, x_C3_0.38, x_C4_0.49] [x_C1_0.76, x_C2_0.06, x_C3_1.0, x_C4_0.6]\n"
     ]
    }
   ],
   "source": [
    "# Utworzenie problemu UTA-GMS\n",
    "problem = LpProblem(\"uta-gms\", LpMaximize)\n",
    "\n",
    "# Utworzenie zmiennej maksymalizowanej\n",
    "epsilon = LpVariable(\"epsilon\")\n",
    "\n",
    "# Utworzenie zmiennych decyzyjnych dla każdego kryterium w problemie programowania matematycznego\n",
    "decision_variables = {}\n",
    "for column in df.columns:\n",
    "    unique_values = df[column].sort_values().unique()\n",
    "    decision_variables[column] = [LpVariable(f\"x_{column}_{value}\", 0, 1) for value in unique_values]\n",
    "\n",
    "# Dodanie ograniczenia na normalizację (maksymalna użyteczność globalna równa 1)\n",
    "# Ponieważ wszystkie kryteria są typu koszt, możemy założyć, że wariant o minimalnych wartościach jest najlepszy\n",
    "problem += lpSum([x[0] for x in decision_variables.values()]) == 1\n",
    "\n",
    "# Dodanie ograniczenia na normalizację (minimalna użyteczność globalna równa 0)\n",
    "# Ponieważ wszystkie kryteria są typu koszt, możemy założyć, że wariant o maksymalnych wartościach jest najgorszy\n",
    "problem += lpSum([x[-1] for x in decision_variables.values()]) == 0\n",
    "\n",
    "# Dodanie ograniczeń na monotoniczność funkcji cząstkowych\n",
    "# W problemie używana jest funkcja ogólna, więc nie ma potrzeby wyliczania interpolacji liniowej\n",
    "# Wystarczy dodać ograniczenia, które gwarantują, że kolejne zmienne decyzyjne mają nierosnące wartości użyteczności\n",
    "for column in df.columns:\n",
    "    for i in range(len(decision_variables[column])-1):\n",
    "        problem += decision_variables[column][i] >= decision_variables[column][i+1]\n",
    "\n",
    "# Dodanie ograniczeń związanych z preferencjami decydenta\n",
    "for preference in preferences:\n",
    "    alt_1 = df.loc[preference[0]].to_dict()\n",
    "    alt_1_variables = [next((variable for variable in decision_variables[k] if str(variable) == f\"x_{k}_{v}\"), None) for k, v in alt_1.items()]\n",
    "        \n",
    "    alt_2 = df.loc[preference[1]].to_dict()\n",
    "    alt_2_variables = [next((variable for variable in decision_variables[k] if str(variable) == f\"x_{k}_{v}\"), None) for k, v, in alt_2.items()]\n",
    "\n",
    "    print(alt_1_variables, alt_2_variables)\n",
    "\n",
    "    problem += lpSum(alt_1_variables) >= lpSum(alt_2_variables) + epsilon"
   ]
  },
  {
   "cell_type": "code",
   "execution_count": 73,
   "id": "1e337754-d949-4687-9c79-2c0cf9fa19c9",
   "metadata": {},
   "outputs": [
    {
     "name": "stdout",
     "output_type": "stream",
     "text": [
      "x_C1_0.32 + x_C2_0.03 + x_C3_0.0 + x_C4_0.49 = 1\n",
      "x_C1_1.0 + x_C2_1.0 + x_C3_1.0 + x_C4_1.0 = 0\n",
      "x_C1_0.32 - x_C1_0.34 >= 0\n",
      "x_C1_0.34 - x_C1_0.35 >= 0\n",
      "x_C1_0.35 - x_C1_0.4 >= 0\n",
      "x_C1_0.4 - x_C1_0.44 >= 0\n",
      "x_C1_0.44 - x_C1_0.45 >= 0\n",
      "x_C1_0.45 - x_C1_0.48 >= 0\n",
      "x_C1_0.48 - x_C1_0.59 >= 0\n",
      "x_C1_0.59 - x_C1_0.6 >= 0\n",
      "x_C1_0.6 - x_C1_0.61 >= 0\n",
      "x_C1_0.61 - x_C1_0.62 >= 0\n",
      "x_C1_0.62 - x_C1_0.64 >= 0\n",
      "x_C1_0.64 - x_C1_0.65 >= 0\n",
      "x_C1_0.65 - x_C1_0.66 >= 0\n",
      "x_C1_0.66 - x_C1_0.68 >= 0\n",
      "x_C1_0.68 - x_C1_0.69 >= 0\n",
      "x_C1_0.69 - x_C1_0.71 >= 0\n",
      "x_C1_0.71 - x_C1_0.73 >= 0\n",
      "x_C1_0.73 - x_C1_0.74 >= 0\n",
      "x_C1_0.74 - x_C1_0.76 >= 0\n",
      "x_C1_0.76 - x_C1_0.78 >= 0\n",
      "x_C1_0.78 - x_C1_0.8 >= 0\n",
      "x_C1_0.8 - x_C1_0.83 >= 0\n",
      "x_C1_0.83 - x_C1_0.87 >= 0\n",
      "x_C1_0.87 - x_C1_1.0 >= 0\n",
      "x_C2_0.03 - x_C2_0.06 >= 0\n",
      "x_C2_0.06 - x_C2_0.22 >= 0\n",
      "x_C2_0.22 - x_C2_0.24 >= 0\n",
      "x_C2_0.24 - x_C2_0.25 >= 0\n",
      "x_C2_0.25 - x_C2_0.27 >= 0\n",
      "x_C2_0.27 - x_C2_0.3 >= 0\n",
      "x_C2_0.3 - x_C2_0.4 >= 0\n",
      "x_C2_0.4 - x_C2_0.44 >= 0\n",
      "x_C2_0.44 - x_C2_0.45 >= 0\n",
      "x_C2_0.45 - x_C2_0.49 >= 0\n",
      "x_C2_0.49 - x_C2_0.54 >= 0\n",
      "x_C2_0.54 - x_C2_0.55 >= 0\n",
      "x_C2_0.55 - x_C2_0.83 >= 0\n",
      "x_C2_0.83 - x_C2_0.86 >= 0\n",
      "x_C2_0.86 - x_C2_0.87 >= 0\n",
      "x_C2_0.87 - x_C2_0.9 >= 0\n",
      "x_C2_0.9 - x_C2_0.91 >= 0\n",
      "x_C2_0.91 - x_C2_0.93 >= 0\n",
      "x_C2_0.93 - x_C2_0.95 >= 0\n",
      "x_C2_0.95 - x_C2_0.97 >= 0\n",
      "x_C2_0.97 - x_C2_1.0 >= 0\n",
      "x_C3_0.0 - x_C3_0.38 >= 0\n",
      "x_C3_0.38 - x_C3_0.45 >= 0\n",
      "x_C3_0.45 - x_C3_0.54 >= 0\n",
      "x_C3_0.54 - x_C3_0.56 >= 0\n",
      "x_C3_0.56 - x_C3_0.57 >= 0\n",
      "x_C3_0.57 - x_C3_0.65 >= 0\n",
      "x_C3_0.65 - x_C3_0.7 >= 0\n",
      "x_C3_0.7 - x_C3_0.71 >= 0\n",
      "x_C3_0.71 - x_C3_0.8 >= 0\n",
      "x_C3_0.8 - x_C3_0.81 >= 0\n",
      "x_C3_0.81 - x_C3_0.88 >= 0\n",
      "x_C3_0.88 - x_C3_1.0 >= 0\n",
      "x_C4_0.49 - x_C4_0.5 >= 0\n",
      "x_C4_0.5 - x_C4_0.54 >= 0\n",
      "x_C4_0.54 - x_C4_0.55 >= 0\n",
      "x_C4_0.55 - x_C4_0.6 >= 0\n",
      "x_C4_0.6 - x_C4_0.61 >= 0\n",
      "x_C4_0.61 - x_C4_0.63 >= 0\n",
      "x_C4_0.63 - x_C4_0.65 >= 0\n",
      "x_C4_0.65 - x_C4_0.67 >= 0\n",
      "x_C4_0.67 - x_C4_0.73 >= 0\n",
      "x_C4_0.73 - x_C4_0.75 >= 0\n",
      "x_C4_0.75 - x_C4_0.82 >= 0\n",
      "x_C4_0.82 - x_C4_0.9 >= 0\n",
      "x_C4_0.9 - x_C4_0.91 >= 0\n",
      "x_C4_0.91 - x_C4_0.94 >= 0\n",
      "x_C4_0.94 - x_C4_0.98 >= 0\n",
      "x_C4_0.98 - x_C4_1.0 >= 0\n",
      "-epsilon - x_C1_0.44 + x_C1_0.6 + x_C2_0.93 - x_C2_0.95 + 0*x_C3_0.0 + x_C4_0.73 - x_C4_0.9 >= 0\n",
      "-epsilon + x_C1_0.61 - x_C1_0.76 - x_C2_0.06 + x_C2_0.54 + x_C3_0.38 - x_C3_1.0 + x_C4_0.49 - x_C4_0.6 >= 0\n"
     ]
    }
   ],
   "source": [
    "for constraint in problem.constraints.values():\n",
    "    print(constraint)"
   ]
  },
  {
   "cell_type": "code",
   "execution_count": 74,
   "id": "b01b2278-0d93-43a6-a0b1-39f8bf992b9a",
   "metadata": {},
   "outputs": [],
   "source": [
    "problem += epsilon"
   ]
  },
  {
   "cell_type": "code",
   "execution_count": 75,
   "id": "0ab00f33-e0d2-425b-b65e-230ce7e64427",
   "metadata": {},
   "outputs": [
    {
     "name": "stdout",
     "output_type": "stream",
     "text": [
      "Welcome to the CBC MILP Solver \n",
      "Version: 2.10.3 \n",
      "Build Date: Dec 15 2019 \n",
      "\n",
      "command line - /usr/local/lib/python3.11/site-packages/pulp/solverdir/cbc/linux/64/cbc /tmp/f6ac81694bef40c7965a3d312fc9c68a-pulp.mps -max -timeMode elapsed -branch -printingOptions all -solution /tmp/f6ac81694bef40c7965a3d312fc9c68a-pulp.sol (default strategy 1)\n",
      "At line 2 NAME          MODEL\n",
      "At line 3 ROWS\n",
      "At line 82 COLUMNS\n",
      "At line 255 RHS\n",
      "At line 333 BOUNDS\n",
      "At line 412 ENDATA\n",
      "Problem MODEL has 77 rows, 78 columns and 170 elements\n",
      "Coin0008I MODEL read with 0 errors\n",
      "Option for timeMode changed from cpu to elapsed\n",
      "Presolve 39 (-38) rows, 41 (-37) columns and 88 (-82) elements\n",
      "Perturbing problem by 0.001% of 1 - largest nonzero change 0 ( 0%) - largest zero change 9.3128486e-05\n",
      "0  Obj 3.1 Primal inf 6.1999981 (2)\n",
      "31  Obj 1.9985824 Primal inf 3.999996 (4)\n",
      "39  Obj 0.49972225\n",
      "Optimal - objective value 0.5\n",
      "After Postsolve, objective 0.5, infeasibilities - dual 0 (0), primal 0 (0)\n",
      "Optimal objective 0.5 - 39 iterations time 0.002, Presolve 0.00\n",
      "Option for printingOptions changed from normal to all\n",
      "Total time (CPU seconds):       0.00   (Wallclock seconds):       0.00\n",
      "\n"
     ]
    },
    {
     "data": {
      "text/plain": [
       "1"
      ]
     },
     "execution_count": 75,
     "metadata": {},
     "output_type": "execute_result"
    }
   ],
   "source": [
    "problem.solve()"
   ]
  },
  {
   "cell_type": "code",
   "execution_count": 76,
   "id": "49c125aa-4852-4cc5-bd0d-8dda874decad",
   "metadata": {},
   "outputs": [
    {
     "name": "stdout",
     "output_type": "stream",
     "text": [
      "Status: Optimal\n",
      "Solution: {'epsilon': 0.5, 'x_C1_0.32': 0.0, 'x_C1_0.34': 0.0, 'x_C1_0.35': 0.0, 'x_C1_0.4': 0.0, 'x_C1_0.44': 0.0, 'x_C1_0.45': 0.0, 'x_C1_0.48': 0.0, 'x_C1_0.59': 0.0, 'x_C1_0.6': 0.0, 'x_C1_0.61': 0.0, 'x_C1_0.62': 0.0, 'x_C1_0.64': 0.0, 'x_C1_0.65': 0.0, 'x_C1_0.66': 0.0, 'x_C1_0.68': 0.0, 'x_C1_0.69': 0.0, 'x_C1_0.71': 0.0, 'x_C1_0.73': 0.0, 'x_C1_0.74': 0.0, 'x_C1_0.76': 0.0, 'x_C1_0.78': 0.0, 'x_C1_0.8': 0.0, 'x_C1_0.83': 0.0, 'x_C1_0.87': 0.0, 'x_C1_1.0': 0.0, 'x_C2_0.03': 0.0, 'x_C2_0.06': 0.0, 'x_C2_0.22': 0.0, 'x_C2_0.24': 0.0, 'x_C2_0.25': 0.0, 'x_C2_0.27': 0.0, 'x_C2_0.3': 0.0, 'x_C2_0.4': 0.0, 'x_C2_0.44': 0.0, 'x_C2_0.45': 0.0, 'x_C2_0.49': 0.0, 'x_C2_0.54': 0.0, 'x_C2_0.55': 0.0, 'x_C2_0.83': 0.0, 'x_C2_0.86': 0.0, 'x_C2_0.87': 0.0, 'x_C2_0.9': 0.0, 'x_C2_0.91': 0.0, 'x_C2_0.93': 0.0, 'x_C2_0.95': 0.0, 'x_C2_0.97': 0.0, 'x_C2_1.0': 0.0, 'x_C3_0.0': 0.5, 'x_C3_0.38': 0.5, 'x_C3_0.45': 0.0, 'x_C3_0.54': 0.0, 'x_C3_0.56': 0.0, 'x_C3_0.57': 0.0, 'x_C3_0.65': 0.0, 'x_C3_0.7': 0.0, 'x_C3_0.71': 0.0, 'x_C3_0.8': 0.0, 'x_C3_0.81': 0.0, 'x_C3_0.88': 0.0, 'x_C3_1.0': 0.0, 'x_C4_0.49': 0.5, 'x_C4_0.5': 0.5, 'x_C4_0.54': 0.5, 'x_C4_0.55': 0.5, 'x_C4_0.6': 0.5, 'x_C4_0.61': 0.5, 'x_C4_0.63': 0.5, 'x_C4_0.65': 0.5, 'x_C4_0.67': 0.5, 'x_C4_0.73': 0.5, 'x_C4_0.75': 0.0, 'x_C4_0.82': 0.0, 'x_C4_0.9': 0.0, 'x_C4_0.91': 0.0, 'x_C4_0.94': 0.0, 'x_C4_0.98': 0.0, 'x_C4_1.0': 0.0}\n"
     ]
    }
   ],
   "source": [
    "#Retrieve the status of the solution:\n",
    "status = LpStatus[problem.status]\n",
    "print(\"Status:\", status)\n",
    "\n",
    "#Retrieve the solution as a dictionary with variable names and their values:\n",
    "solution = {variable.name: variable.varValue for variable in problem.variables()}\n",
    "print(\"Solution:\", solution)"
   ]
  },
  {
   "cell_type": "code",
   "execution_count": null,
   "id": "85e36f18-f9fa-400a-84c0-ff9b87ffc020",
   "metadata": {},
   "outputs": [],
   "source": []
  }
 ],
 "metadata": {
  "kernelspec": {
   "display_name": "Python 3 (ipykernel)",
   "language": "python",
   "name": "python3"
  },
  "language_info": {
   "codemirror_mode": {
    "name": "ipython",
    "version": 3
   },
   "file_extension": ".py",
   "mimetype": "text/x-python",
   "name": "python",
   "nbconvert_exporter": "python",
   "pygments_lexer": "ipython3",
   "version": "3.11.8"
  }
 },
 "nbformat": 4,
 "nbformat_minor": 5
}
