{
 "cells": [
  {
   "cell_type": "markdown",
   "id": "822bfdc0-8c0f-400a-9df7-c510b286106a",
   "metadata": {},
   "source": [
    "# Data Envelopment Analysis"
   ]
  },
  {
   "cell_type": "code",
   "execution_count": 17,
   "id": "9fcedc27-7ab2-4074-996e-99c3c32f1c95",
   "metadata": {},
   "outputs": [],
   "source": [
    "import pandas as pd\n",
    "from pulp import *"
   ]
  },
  {
   "cell_type": "code",
   "execution_count": 18,
   "id": "405e0837-5c9a-4ec9-abb9-1e748d8ffc95",
   "metadata": {},
   "outputs": [
    {
     "data": {
      "text/html": [
       "<div>\n",
       "<style scoped>\n",
       "    .dataframe tbody tr th:only-of-type {\n",
       "        vertical-align: middle;\n",
       "    }\n",
       "\n",
       "    .dataframe tbody tr th {\n",
       "        vertical-align: top;\n",
       "    }\n",
       "\n",
       "    .dataframe thead th {\n",
       "        text-align: right;\n",
       "    }\n",
       "</style>\n",
       "<table border=\"1\" class=\"dataframe\">\n",
       "  <thead>\n",
       "    <tr style=\"text-align: right;\">\n",
       "      <th></th>\n",
       "      <th>name</th>\n",
       "      <th>i1</th>\n",
       "      <th>o1</th>\n",
       "      <th>o2</th>\n",
       "    </tr>\n",
       "  </thead>\n",
       "  <tbody>\n",
       "    <tr>\n",
       "      <th>0</th>\n",
       "      <td>A</td>\n",
       "      <td>160</td>\n",
       "      <td>48</td>\n",
       "      <td>68</td>\n",
       "    </tr>\n",
       "    <tr>\n",
       "      <th>1</th>\n",
       "      <td>B</td>\n",
       "      <td>160</td>\n",
       "      <td>12</td>\n",
       "      <td>80</td>\n",
       "    </tr>\n",
       "    <tr>\n",
       "      <th>2</th>\n",
       "      <td>C</td>\n",
       "      <td>160</td>\n",
       "      <td>45</td>\n",
       "      <td>87</td>\n",
       "    </tr>\n",
       "    <tr>\n",
       "      <th>3</th>\n",
       "      <td>D</td>\n",
       "      <td>160</td>\n",
       "      <td>31</td>\n",
       "      <td>100</td>\n",
       "    </tr>\n",
       "    <tr>\n",
       "      <th>4</th>\n",
       "      <td>E</td>\n",
       "      <td>160</td>\n",
       "      <td>20</td>\n",
       "      <td>70</td>\n",
       "    </tr>\n",
       "    <tr>\n",
       "      <th>5</th>\n",
       "      <td>F</td>\n",
       "      <td>160</td>\n",
       "      <td>20</td>\n",
       "      <td>105</td>\n",
       "    </tr>\n",
       "    <tr>\n",
       "      <th>6</th>\n",
       "      <td>G</td>\n",
       "      <td>160</td>\n",
       "      <td>36</td>\n",
       "      <td>53</td>\n",
       "    </tr>\n",
       "    <tr>\n",
       "      <th>7</th>\n",
       "      <td>H</td>\n",
       "      <td>160</td>\n",
       "      <td>15</td>\n",
       "      <td>65</td>\n",
       "    </tr>\n",
       "  </tbody>\n",
       "</table>\n",
       "</div>"
      ],
      "text/plain": [
       "  name   i1  o1   o2\n",
       "0    A  160  48   68\n",
       "1    B  160  12   80\n",
       "2    C  160  45   87\n",
       "3    D  160  31  100\n",
       "4    E  160  20   70\n",
       "5    F  160  20  105\n",
       "6    G  160  36   53\n",
       "7    H  160  15   65"
      ]
     },
     "execution_count": 18,
     "metadata": {},
     "output_type": "execute_result"
    }
   ],
   "source": [
    "df_input = pd.read_csv(\"data/inputs_test.csv\", sep=';')\n",
    "input_columns = list(df_input.columns[1:])\n",
    "df_input.columns = ['name'] + input_columns\n",
    "\n",
    "df_output = pd.read_csv(\"data/outputs_test.csv\", sep=';')\n",
    "output_columns = list(df_output.columns[1:])\n",
    "df_output.columns = ['name'] + output_columns\n",
    "\n",
    "df = pd.merge(df_input, df_output, on='name')\n",
    "df"
   ]
  },
  {
   "cell_type": "markdown",
   "id": "0f59dc7d-927c-45c1-b2b8-82a3f236c3db",
   "metadata": {},
   "source": [
    "## Obliczanie efektywności"
   ]
  },
  {
   "cell_type": "code",
   "execution_count": 19,
   "id": "be0b7da1-da35-4ca4-9ad5-ee28cca382fa",
   "metadata": {},
   "outputs": [],
   "source": [
    "solutions = {}\n",
    "for idx_dmu, dmu in df.iterrows():\n",
    "    \n",
    "    problem = LpProblem(\"dea\", LpMinimize)\n",
    "    \n",
    "    theta = LpVariable(\"theta\", 0)\n",
    "    \n",
    "    decision_variables = {}\n",
    "    for idx in df.index:\n",
    "        decision_variables[idx] = LpVariable(f\"x_{idx}\", 0)\n",
    "\n",
    "    for column in df.columns:\n",
    "        if column in input_columns:\n",
    "            problem += lpSum(value*decision_variables[idx] for value, idx in zip(df.loc[:, column], df.index)) <= dmu[column]*theta\n",
    "        if column in output_columns:\n",
    "            problem += lpSum(value*decision_variables[idx] for value, idx in zip(df.loc[:, column], df.index)) >= dmu[column]\n",
    "\n",
    "    problem += theta\n",
    "    problem.solve(solver=GLPK(msg=False))\n",
    "    solution = {variable.name: variable.varValue for variable in problem.variables()}\n",
    "    solutions[idx_dmu] = solution"
   ]
  },
  {
   "cell_type": "code",
   "execution_count": 20,
   "id": "96b02a6d-0b30-4f22-bd4f-0d217aca9aba",
   "metadata": {},
   "outputs": [
    {
     "name": "stdout",
     "output_type": "stream",
     "text": [
      "DMU index: 0, DMU name: A, Efficiency: 1.000\n",
      "DMU index: 1, DMU name: B, Efficiency: 0.762\n",
      "DMU index: 2, DMU name: C, Efficiency: 1.000\n",
      "DMU index: 3, DMU name: D, Efficiency: 1.000\n",
      "DMU index: 4, DMU name: E, Efficiency: 0.693\n",
      "DMU index: 5, DMU name: F, Efficiency: 1.000\n",
      "DMU index: 6, DMU name: G, Efficiency: 0.755\n",
      "DMU index: 7, DMU name: H, Efficiency: 0.629\n"
     ]
    }
   ],
   "source": [
    "for idx, solution in solutions.items():\n",
    "    print(f\"DMU index: {idx}, DMU name: {df.loc[idx, 'name']}, Efficiency: {solution['theta']:.3f}\")"
   ]
  },
  {
   "cell_type": "markdown",
   "id": "6b48b11f-7cc9-4f01-af91-20e6880a563e",
   "metadata": {},
   "source": [
    "# Obliczanie HCU i poprawek"
   ]
  },
  {
   "cell_type": "code",
   "execution_count": 21,
   "id": "a8bb22dc-6583-483a-8512-25be7e618fc8",
   "metadata": {},
   "outputs": [
    {
     "name": "stdout",
     "output_type": "stream",
     "text": [
      "-------------------------\n",
      "DMU index: 0, DMU name: A\n",
      "For input: i1: HCU: 160.000, improvement needed: 0.000\n",
      "-------------------------\n",
      "DMU index: 1, DMU name: B\n",
      "For input: i1: HCU: 121.905, improvement needed: 38.095\n",
      "-------------------------\n",
      "DMU index: 2, DMU name: C\n",
      "For input: i1: HCU: 160.000, improvement needed: 0.000\n",
      "-------------------------\n",
      "DMU index: 3, DMU name: D\n",
      "For input: i1: HCU: 160.000, improvement needed: 0.000\n",
      "-------------------------\n",
      "DMU index: 4, DMU name: E\n",
      "For input: i1: HCU: 110.916, improvement needed: 49.084\n",
      "-------------------------\n",
      "DMU index: 5, DMU name: F\n",
      "For input: i1: HCU: 160.000, improvement needed: 0.000\n",
      "-------------------------\n",
      "DMU index: 6, DMU name: G\n",
      "For input: i1: HCU: 120.860, improvement needed: 39.140\n",
      "-------------------------\n",
      "DMU index: 7, DMU name: H\n",
      "For input: i1: HCU: 100.717, improvement needed: 59.283\n"
     ]
    }
   ],
   "source": [
    "for idx, solution in solutions.items():\n",
    "    header = f\"DMU index: {idx}, DMU name: {df.loc[idx, 'name']}\"\n",
    "    print(\"-\"*len(header))\n",
    "    print(header)\n",
    "    for input_column in input_columns:\n",
    "        hcu = solution['theta'] * df.loc[idx, input_column]\n",
    "        improvement = df.loc[idx, input_column] - hcu\n",
    "        print(f\"For input: {input_column}: HCU: {hcu:.3f}, improvement needed: {improvement:.3f}\")"
   ]
  },
  {
   "cell_type": "markdown",
   "id": "ef5dac74-33c0-44b7-aad2-1eddf38a5a47",
   "metadata": {},
   "source": [
    "## Obliczanie superefektywności"
   ]
  },
  {
   "cell_type": "code",
   "execution_count": 23,
   "id": "03f4bb3c-f0e6-4a92-8fa6-43956f1e6825",
   "metadata": {},
   "outputs": [],
   "source": [
    "solutions = {}\n",
    "for idx_dmu, dmu in df.iterrows():\n",
    "    \n",
    "    problem = LpProblem(\"dea\", LpMaximize)\n",
    "    \n",
    "    decision_variables_v = {}\n",
    "    decision_variables_u = {}\n",
    "    for idx_col, column in enumerate(df.columns):\n",
    "        if column in input_columns:\n",
    "            decision_variables_v[column] = LpVariable(f\"v_{idx_col}\", 0)\n",
    "        if column in output_columns:\n",
    "            decision_variables_u[column] = LpVariable(f\"u_{idx_col}\", 0)\n",
    "\n",
    "    for idx, dmu2 in df.iterrows():\n",
    "        if idx == idx_dmu:\n",
    "            continue\n",
    "        problem += lpSum(value*variable for value, variable in zip(df.loc[idx, output_columns], decision_variables_u.values())) <= lpSum(value*variable for value, variable in zip(df.loc[idx, input_columns], decision_variables_v.values()))\n",
    "\n",
    "    problem += lpSum(value*variable for value, variable in zip(df.loc[idx_dmu, input_columns], decision_variables_v.values())) == 1\n",
    "    \n",
    "    problem += lpSum(value*variable for value, variable in zip(df.loc[idx_dmu, output_columns], decision_variables_u.values()))\n",
    "    problem.solve(solver=GLPK(msg=False))\n",
    "    solution = {variable.name: variable.varValue for variable in problem.variables()}\n",
    "    solutions[idx_dmu] = solution"
   ]
  },
  {
   "cell_type": "code",
   "execution_count": 26,
   "id": "9a5800da-0678-49e6-84ed-8d0677a35cd2",
   "metadata": {},
   "outputs": [
    {
     "name": "stdout",
     "output_type": "stream",
     "text": [
      "DMU index: 0, DMU name: A, Efficiency: 1.067\n",
      "DMU index: 1, DMU name: B, Efficiency: 0.762\n",
      "DMU index: 2, DMU name: C, Efficiency: 1.084\n",
      "DMU index: 3, DMU name: D, Efficiency: 1.024\n",
      "DMU index: 4, DMU name: E, Efficiency: 0.693\n",
      "DMU index: 5, DMU name: F, Efficiency: 1.050\n",
      "DMU index: 6, DMU name: G, Efficiency: 0.755\n",
      "DMU index: 7, DMU name: H, Efficiency: 0.629\n"
     ]
    }
   ],
   "source": [
    "for idx, solution in solutions.items():\n",
    "    super_efficiency = sum(value*variable for value, variable in zip(df.loc[idx, output_columns], [v for k, v in solution.items() if k.startswith('u')]))\n",
    "    print(f\"DMU index: {idx}, DMU name: {df.loc[idx, 'name']}, Efficiency: {super_efficiency:.3f}\")"
   ]
  },
  {
   "cell_type": "markdown",
   "id": "ca31ab6b-ee4b-405c-a43e-68b6fdfa57d6",
   "metadata": {},
   "source": [
    "# Obliczanie efektywności krzyżowej"
   ]
  },
  {
   "cell_type": "code",
   "execution_count": null,
   "id": "e53c050f-aa56-4dca-9d3b-70ab2cce634a",
   "metadata": {},
   "outputs": [],
   "source": []
  }
 ],
 "metadata": {
  "kernelspec": {
   "display_name": "Python 3 (ipykernel)",
   "language": "python",
   "name": "python3"
  },
  "language_info": {
   "codemirror_mode": {
    "name": "ipython",
    "version": 3
   },
   "file_extension": ".py",
   "mimetype": "text/x-python",
   "name": "python",
   "nbconvert_exporter": "python",
   "pygments_lexer": "ipython3",
   "version": "3.11.9"
  }
 },
 "nbformat": 4,
 "nbformat_minor": 5
}
